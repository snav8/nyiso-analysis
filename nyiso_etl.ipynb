{
 "cells": [
  {
   "cell_type": "code",
   "execution_count": null,
   "metadata": {
    "application/vnd.databricks.v1+cell": {
     "cellMetadata": {
      "byteLimit": 2048000,
      "rowLimit": 10000
     },
     "inputWidgets": {},
     "nuid": "62a45da0-0c4f-447b-a30e-d74ea1f326b9",
     "showTitle": false,
     "title": ""
    }
   },
   "outputs": [
    {
     "data": {
      "application/vnd.databricks.v1+bamboolib_hint": "{\"pd.DataFrames\": [], \"version\": \"0.0.1\"}",
      "text/plain": []
     },
     "metadata": {},
     "output_type": "display_data"
    }
   ],
   "source": [
    "import requests \n",
    "import datetime as dt\n",
    "from datetime import date\n",
    "from datetime import timedelta\n",
    "from datetime import datetime\n",
    "import json\n",
    "import pandas as pd\n",
    "import io \n",
    "import zipfile\n",
    "import csv\n",
    "from pyspark.sql.types import StructType, StructField, TimestampType, StringType, IntegerType, DoubleType"
   ]
  },
  {
   "cell_type": "code",
   "execution_count": null,
   "metadata": {
    "application/vnd.databricks.v1+cell": {
     "cellMetadata": {
      "byteLimit": 2048000,
      "rowLimit": 10000
     },
     "inputWidgets": {},
     "nuid": "42f5b374-5e43-4dcf-b06b-198197b9f159",
     "showTitle": false,
     "title": ""
    }
   },
   "outputs": [],
   "source": [
    "# simple helper function to grab the names of the downloadable files\n",
    "# returns list of dates from 2017 to today\n",
    "\n",
    "def create_date_list():\n",
    "    #create string for end of date list\n",
    "    end_month = datetime.now().month\n",
    "    end_year = datetime.now().year\n",
    "    end_date = str(end_year) + \"0\" + str(end_month) + \"01\"\n",
    "    \n",
    "    dateList = (pd.date_range(start='20170101',end= end_date,freq='MS')).strftime('%Y%m%d').to_list()\n",
    "    return dateList"
   ]
  },
  {
   "cell_type": "code",
   "execution_count": null,
   "metadata": {
    "application/vnd.databricks.v1+cell": {
     "cellMetadata": {
      "byteLimit": 2048000,
      "rowLimit": 10000
     },
     "inputWidgets": {},
     "nuid": "a6239295-07c6-4ee8-acf5-619075f5aad3",
     "showTitle": false,
     "title": ""
    }
   },
   "outputs": [],
   "source": [
    "#one-time function to create historical csv starting from 2010\n",
    "\n",
    "def nyiso_scrape(base_url):\n",
    "    # get content for entire page.\n",
    "    dates = create_date_list()\n",
    "    dfl = [] # df list\n",
    "    \n",
    "    #nested for loop to go through the daily files inside the list of monthly zip files\n",
    "    for date in dates:\n",
    "        url = f\"http://mis.nyiso.com/public/csv/damlbmp/{date}damlbmp_zone_csv.zip\"\n",
    "\n",
    "        r = requests.get(url)\n",
    "        rc = io.BytesIO(r.content) # content \n",
    "\n",
    "        zip_file_object = zipfile.ZipFile(rc, 'r')\n",
    "        \n",
    "        file_list = zip_file_object.namelist()\n",
    "        \n",
    "        #loop through each file in list of files from zip\n",
    "        for file in file_list:\n",
    "            daily_file = zip_file_object.open(file) #an individual file\n",
    "            df = pd.read_csv(daily_file) #read this file\n",
    "            dfl.append(df) #append this df to list of df's\n",
    "    \n",
    "    #combine all dataframes in list into one big dataframe at the end\n",
    "    comb = pd.concat(dfl)    \n",
    "    \n",
    "    #describe the dataset and rename columns, transform dtypes, etc\n",
    "    print(\"shape of df:\", comb.shape)\n",
    "    print(comb.describe())\n",
    "\n",
    "    #see if there are columns with nulls, if any\n",
    "    null_cols = comb.columns[comb.isnull().any()]\n",
    "    print(\"null columns: \", null_cols)\n",
    "    #rename columns\n",
    "    cols = {\n",
    "        \"Time Stamp\": \"timestamp\",\n",
    "        \"Name\": \"zone\",\n",
    "        \"PTID\": \"ptid\",\n",
    "        \"LBMP ($/MWHr)\": \"lbmp\",\n",
    "        \"Marginal Cost Losses ($/MWHr)\": \"marginal_cost_losses\",\n",
    "        \"Marginal Cost Congestion ($/MWHr)\": \"marginal_cost_congestion\"\n",
    "    }\n",
    "    comb = comb.rename(columns = cols)\n",
    "\n",
    "    comb['timestamp'] = pd.to_datetime(comb['timestamp']) #convert string to datetime\n",
    "    return comb\n"
   ]
  },
  {
   "cell_type": "code",
   "execution_count": null,
   "metadata": {
    "application/vnd.databricks.v1+cell": {
     "cellMetadata": {
      "byteLimit": 2048000,
      "rowLimit": 10000
     },
     "inputWidgets": {},
     "nuid": "ddae4841-3dcd-4986-abd2-6d88846bc271",
     "showTitle": false,
     "title": ""
    }
   },
   "outputs": [
    {
     "name": "stdout",
     "output_type": "stream",
     "text": [
      "shape of df: (1013025, 6)\n",
      "               PTID  LBMP ($/MWHr)  Marginal Cost Losses ($/MWHr)  \\\n",
      "count  1.013025e+06   1.013025e+06                   1.013025e+06   \n",
      "mean   6.178060e+04   3.450018e+01                   1.114778e+00   \n",
      "std    3.923402e+01   2.779499e+01                   2.228361e+00   \n",
      "min    6.175200e+04  -1.078000e+01                  -3.542000e+01   \n",
      "25%    6.175500e+04   1.956000e+01                  -1.200000e-01   \n",
      "50%    6.175900e+04   2.709000e+01                   7.800000e-01   \n",
      "75%    6.184400e+04   3.911000e+01                   1.980000e+00   \n",
      "max    6.184700e+04   6.534100e+02                   3.377000e+01   \n",
      "\n",
      "       Marginal Cost Congestion ($/MWHr)  \n",
      "count                       1.013025e+06  \n",
      "mean                       -5.510448e+00  \n",
      "std                         1.408813e+01  \n",
      "min                        -4.573000e+02  \n",
      "25%                        -5.600000e+00  \n",
      "50%                        -5.100000e-01  \n",
      "75%                         0.000000e+00  \n",
      "max                         1.433100e+02  \n",
      "null columns:  Index([], dtype='object')\n"
     ]
    },
    {
     "data": {
      "text/html": [
       "<div>\n",
       "<style scoped>\n",
       "    .dataframe tbody tr th:only-of-type {\n",
       "        vertical-align: middle;\n",
       "    }\n",
       "\n",
       "    .dataframe tbody tr th {\n",
       "        vertical-align: top;\n",
       "    }\n",
       "\n",
       "    .dataframe thead th {\n",
       "        text-align: right;\n",
       "    }\n",
       "</style>\n",
       "<table border=\"1\" class=\"dataframe\">\n",
       "  <thead>\n",
       "    <tr style=\"text-align: right;\">\n",
       "      <th></th>\n",
       "      <th>timestamp</th>\n",
       "      <th>zone</th>\n",
       "      <th>ptid</th>\n",
       "      <th>lbmp</th>\n",
       "      <th>marginal_cost_losses</th>\n",
       "      <th>marginal_cost_congestion</th>\n",
       "    </tr>\n",
       "  </thead>\n",
       "  <tbody>\n",
       "    <tr>\n",
       "      <th>0</th>\n",
       "      <td>2017-01-01 00:00:00</td>\n",
       "      <td>CAPITL</td>\n",
       "      <td>61757</td>\n",
       "      <td>42.06</td>\n",
       "      <td>0.68</td>\n",
       "      <td>-29.05</td>\n",
       "    </tr>\n",
       "    <tr>\n",
       "      <th>1</th>\n",
       "      <td>2017-01-01 00:00:00</td>\n",
       "      <td>CENTRL</td>\n",
       "      <td>61754</td>\n",
       "      <td>15.50</td>\n",
       "      <td>0.20</td>\n",
       "      <td>-2.98</td>\n",
       "    </tr>\n",
       "    <tr>\n",
       "      <th>2</th>\n",
       "      <td>2017-01-01 00:00:00</td>\n",
       "      <td>DUNWOD</td>\n",
       "      <td>61760</td>\n",
       "      <td>33.52</td>\n",
       "      <td>1.13</td>\n",
       "      <td>-20.06</td>\n",
       "    </tr>\n",
       "    <tr>\n",
       "      <th>3</th>\n",
       "      <td>2017-01-01 00:00:00</td>\n",
       "      <td>GENESE</td>\n",
       "      <td>61753</td>\n",
       "      <td>14.67</td>\n",
       "      <td>0.04</td>\n",
       "      <td>-2.31</td>\n",
       "    </tr>\n",
       "    <tr>\n",
       "      <th>4</th>\n",
       "      <td>2017-01-01 00:00:00</td>\n",
       "      <td>H Q</td>\n",
       "      <td>61844</td>\n",
       "      <td>11.89</td>\n",
       "      <td>-0.43</td>\n",
       "      <td>0.00</td>\n",
       "    </tr>\n",
       "    <tr>\n",
       "      <th>...</th>\n",
       "      <td>...</td>\n",
       "      <td>...</td>\n",
       "      <td>...</td>\n",
       "      <td>...</td>\n",
       "      <td>...</td>\n",
       "      <td>...</td>\n",
       "    </tr>\n",
       "    <tr>\n",
       "      <th>355</th>\n",
       "      <td>2024-09-14 23:00:00</td>\n",
       "      <td>NORTH</td>\n",
       "      <td>61755</td>\n",
       "      <td>27.70</td>\n",
       "      <td>0.08</td>\n",
       "      <td>0.00</td>\n",
       "    </tr>\n",
       "    <tr>\n",
       "      <th>356</th>\n",
       "      <td>2024-09-14 23:00:00</td>\n",
       "      <td>NPX</td>\n",
       "      <td>61845</td>\n",
       "      <td>28.64</td>\n",
       "      <td>1.02</td>\n",
       "      <td>0.00</td>\n",
       "    </tr>\n",
       "    <tr>\n",
       "      <th>357</th>\n",
       "      <td>2024-09-14 23:00:00</td>\n",
       "      <td>O H</td>\n",
       "      <td>61846</td>\n",
       "      <td>26.10</td>\n",
       "      <td>-1.52</td>\n",
       "      <td>0.00</td>\n",
       "    </tr>\n",
       "    <tr>\n",
       "      <th>358</th>\n",
       "      <td>2024-09-14 23:00:00</td>\n",
       "      <td>PJM</td>\n",
       "      <td>61847</td>\n",
       "      <td>27.70</td>\n",
       "      <td>0.08</td>\n",
       "      <td>0.00</td>\n",
       "    </tr>\n",
       "    <tr>\n",
       "      <th>359</th>\n",
       "      <td>2024-09-14 23:00:00</td>\n",
       "      <td>WEST</td>\n",
       "      <td>61752</td>\n",
       "      <td>26.76</td>\n",
       "      <td>-0.86</td>\n",
       "      <td>0.00</td>\n",
       "    </tr>\n",
       "  </tbody>\n",
       "</table>\n",
       "<p>1013025 rows × 6 columns</p>\n",
       "</div>"
      ]
     },
     "metadata": {
      "application/vnd.databricks.v1+output": {
       "addedWidgets": {},
       "arguments": {},
       "data": "<div>\n<style scoped>\n    .dataframe tbody tr th:only-of-type {\n        vertical-align: middle;\n    }\n\n    .dataframe tbody tr th {\n        vertical-align: top;\n    }\n\n    .dataframe thead th {\n        text-align: right;\n    }\n</style>\n<table border=\"1\" class=\"dataframe\">\n  <thead>\n    <tr style=\"text-align: right;\">\n      <th></th>\n      <th>timestamp</th>\n      <th>zone</th>\n      <th>ptid</th>\n      <th>lbmp</th>\n      <th>marginal_cost_losses</th>\n      <th>marginal_cost_congestion</th>\n    </tr>\n  </thead>\n  <tbody>\n    <tr>\n      <th>0</th>\n      <td>2017-01-01 00:00:00</td>\n      <td>CAPITL</td>\n      <td>61757</td>\n      <td>42.06</td>\n      <td>0.68</td>\n      <td>-29.05</td>\n    </tr>\n    <tr>\n      <th>1</th>\n      <td>2017-01-01 00:00:00</td>\n      <td>CENTRL</td>\n      <td>61754</td>\n      <td>15.50</td>\n      <td>0.20</td>\n      <td>-2.98</td>\n    </tr>\n    <tr>\n      <th>2</th>\n      <td>2017-01-01 00:00:00</td>\n      <td>DUNWOD</td>\n      <td>61760</td>\n      <td>33.52</td>\n      <td>1.13</td>\n      <td>-20.06</td>\n    </tr>\n    <tr>\n      <th>3</th>\n      <td>2017-01-01 00:00:00</td>\n      <td>GENESE</td>\n      <td>61753</td>\n      <td>14.67</td>\n      <td>0.04</td>\n      <td>-2.31</td>\n    </tr>\n    <tr>\n      <th>4</th>\n      <td>2017-01-01 00:00:00</td>\n      <td>H Q</td>\n      <td>61844</td>\n      <td>11.89</td>\n      <td>-0.43</td>\n      <td>0.00</td>\n    </tr>\n    <tr>\n      <th>...</th>\n      <td>...</td>\n      <td>...</td>\n      <td>...</td>\n      <td>...</td>\n      <td>...</td>\n      <td>...</td>\n    </tr>\n    <tr>\n      <th>355</th>\n      <td>2024-09-14 23:00:00</td>\n      <td>NORTH</td>\n      <td>61755</td>\n      <td>27.70</td>\n      <td>0.08</td>\n      <td>0.00</td>\n    </tr>\n    <tr>\n      <th>356</th>\n      <td>2024-09-14 23:00:00</td>\n      <td>NPX</td>\n      <td>61845</td>\n      <td>28.64</td>\n      <td>1.02</td>\n      <td>0.00</td>\n    </tr>\n    <tr>\n      <th>357</th>\n      <td>2024-09-14 23:00:00</td>\n      <td>O H</td>\n      <td>61846</td>\n      <td>26.10</td>\n      <td>-1.52</td>\n      <td>0.00</td>\n    </tr>\n    <tr>\n      <th>358</th>\n      <td>2024-09-14 23:00:00</td>\n      <td>PJM</td>\n      <td>61847</td>\n      <td>27.70</td>\n      <td>0.08</td>\n      <td>0.00</td>\n    </tr>\n    <tr>\n      <th>359</th>\n      <td>2024-09-14 23:00:00</td>\n      <td>WEST</td>\n      <td>61752</td>\n      <td>26.76</td>\n      <td>-0.86</td>\n      <td>0.00</td>\n    </tr>\n  </tbody>\n</table>\n<p>1013025 rows × 6 columns</p>\n</div>",
       "datasetInfos": [],
       "metadata": {},
       "removedWidgets": [],
       "textData": null,
       "type": "htmlSandbox"
      }
     },
     "output_type": "display_data"
    }
   ],
   "source": [
    "\n",
    "file_url = \"http://mis.nyiso.com/public/csv/damlbmp/{}damlbmp_zone_csv.zip\"\n",
    "comb = nyiso_scrape(file_url)\n",
    "comb"
   ]
  },
  {
   "cell_type": "code",
   "execution_count": null,
   "metadata": {
    "application/vnd.databricks.v1+cell": {
     "cellMetadata": {
      "byteLimit": 2048000,
      "rowLimit": 10000
     },
     "inputWidgets": {},
     "nuid": "64a5cd51-366f-4e8a-a60a-eb58820c5311",
     "showTitle": false,
     "title": ""
    }
   },
   "outputs": [],
   "source": [
    "#save to csv\n",
    "comb.to_csv(\"nyiso_lbmp.csv\", index = False)"
   ]
  },
  {
   "cell_type": "code",
   "execution_count": null,
   "metadata": {
    "application/vnd.databricks.v1+cell": {
     "cellMetadata": {
      "byteLimit": 2048000,
      "rowLimit": 10000
     },
     "inputWidgets": {},
     "nuid": "5c8b4718-5aee-4dd9-b5ae-096ca28cdf28",
     "showTitle": false,
     "title": ""
    }
   },
   "outputs": [],
   "source": [
    "#convert comb to spark dataframe and save as databricks delta table\n",
    "schema = StructType([\n",
    "    StructField(\"time_stamp\", TimestampType(), False),\n",
    "    StructField(\"zone\", StringType(), False),\n",
    "    StructField(\"ptid\", IntegerType(), False),\n",
    "    StructField(\"lbmp\", DoubleType(), False),\n",
    "    StructField(\"marginal_cost_losses\", DoubleType(), False),\n",
    "    StructField(\"marginal_cost_congestion\", DoubleType(), False)\n",
    "])\n",
    "sdf = spark.createDataFrame(comb, schema = schema)"
   ]
  },
  {
   "cell_type": "code",
   "execution_count": null,
   "metadata": {
    "application/vnd.databricks.v1+cell": {
     "cellMetadata": {
      "byteLimit": 2048000,
      "rowLimit": 10000
     },
     "inputWidgets": {},
     "nuid": "e47f6025-5a93-4949-b333-5f1d254dad7e",
     "showTitle": false,
     "title": ""
    }
   },
   "outputs": [],
   "source": [
    "#save to a databricks table we can perform SQL queries on\n",
    "sdf.write.format(\"delta\").saveAsTable(\"nyiso_dayahead_lbmp\")"
   ]
  }
 ],
 "metadata": {
  "application/vnd.databricks.v1+notebook": {
   "dashboards": [],
   "environmentMetadata": null,
   "language": "python",
   "notebookMetadata": {
    "pythonIndentUnit": 4
   },
   "notebookName": "nyiso_etl",
   "widgets": {}
  },
  "language_info": {
   "name": "python"
  }
 },
 "nbformat": 4,
 "nbformat_minor": 0
}
